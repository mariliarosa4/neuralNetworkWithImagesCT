{
 "cells": [
  {
   "cell_type": "code",
   "execution_count": 6,
   "metadata": {},
   "outputs": [],
   "source": [
    "import pandas as pd\n",
    "import glob, os\n",
    "import shutil \n",
    "\n",
    "os.chdir(\"C:/Users/mariliasi/Documents/\")\n",
    "xls = pd.ExcelFile(\"imagens selecionadas.xlsx\")\n",
    "\n",
    "sheetX = xls.parse(0) #2 is the sheet number\n",
    "\n",
    "cont=0\n",
    "#print(sheetX)\n",
    "notprone=0\n",
    "arrayManual = []\n",
    "##codigo para extrair os arquivos das imagens sem polipos do dataset original conforme tabela para uma nova pasta\n",
    "for tciaNumber in sheetX['TCIA Number sem polipo']:\n",
    "    #print(tciaNumber)\n",
    "    os.chdir(\"C:\\\\Users\\\\mariliasi\\\\Documents\\\\CT COLONOGRAPHY\\\\\"+str(tciaNumber)+\"\\\\\")\n",
    "    for file in glob.glob(\"**/*\"):\n",
    "        if \"prone\" in file.lower():\n",
    "            for imagem in  glob.glob(file+\"/000\"+str(sheetX['imagem prone s1'][cont])+\".dcm\"):\n",
    "                shutil.copy2(imagem, \"../../classe_sem_polipo/\"+tciaNumber+\"_\"+str(sheetX['imagem prone s1'][cont])+\".dcm\")\n",
    "            for imagem in  glob.glob(file+\"/000\"+str(sheetX['imagem prone s2'][cont])+\".dcm\"):\n",
    "                shutil.copy2(imagem, \"../../classe_sem_polipo/\"+tciaNumber+\"_\"+str(sheetX['imagem prone s2'][cont])+\".dcm\")\n",
    "            notprone=1\n",
    "    if notprone==0:\n",
    "        print(\"sem prone \" + file)\n",
    "        arrayManual.append(tciaNumber)\n",
    "    cont=cont+1 \n"
   ]
  },
  {
   "cell_type": "code",
   "execution_count": 3,
   "metadata": {},
   "outputs": [
    {
     "name": "stdout",
     "output_type": "stream",
     "text": [
      "1.3.6.1.4.1.9328.50.4.0040\n",
      "1.3.6.1.4.1.9328.50.4.0040\n",
      "1.3.6.1.4.1.9328.50.4.0104\n",
      "sem prone 01-01-2000-1-ABD PEL-14776\\6-Recon 2 ABD PEL WITHOUT - PRON-15297\n",
      "1.3.6.1.4.1.9328.50.4.0104\n",
      "sem prone 01-01-2000-1-ABD PEL-14776\\6-Recon 2 ABD PEL WITHOUT - PRON-15297\n",
      "1.3.6.1.4.1.9328.50.4.0011\n",
      "1.3.6.1.4.1.9328.50.4.0080\n",
      "1.3.6.1.4.1.9328.50.4.0080\n",
      "1.3.6.1.4.1.9328.50.4.0152\n",
      "1.3.6.1.4.1.9328.50.4.0152\n",
      "1.3.6.1.4.1.9328.50.4.0136\n",
      "1.3.6.1.4.1.9328.50.4.0175\n",
      "1.3.6.1.4.1.9328.50.4.0216\n",
      "sem prone 01-01-2000-1-Abdomen7MCVVIRTUALCOLONOSCOPY-43649\\4-Virt Colon  1.0 ST-43677\n",
      "1.3.6.1.4.1.9328.50.4.0216\n",
      "sem prone 01-01-2000-1-Abdomen7MCVVIRTUALCOLONOSCOPY-43649\\4-Virt Colon  1.0 ST-43677\n",
      "1.3.6.1.4.1.9328.50.4.0233\n",
      "1.3.6.1.4.1.9328.50.4.0154\n",
      "1.3.6.1.4.1.9328.50.4.0156\n",
      "1.3.6.1.4.1.9328.50.4.0187\n",
      "1.3.6.1.4.1.9328.50.4.0264\n",
      "1.3.6.1.4.1.9328.50.4.0264\n",
      "1.3.6.1.4.1.9328.50.4.0264\n",
      "1.3.6.1.4.1.9328.50.4.0269\n",
      "1.3.6.1.4.1.9328.50.4.0269\n",
      "1.3.6.1.4.1.9328.50.4.0259\n",
      "1.3.6.1.4.1.9328.50.4.0290\n",
      "1.3.6.1.4.1.9328.50.4.0290\n",
      "1.3.6.1.4.1.9328.50.4.0331\n",
      "1.3.6.1.4.1.9328.50.4.0345\n",
      "1.3.6.1.4.1.9328.50.4.0347\n",
      "1.3.6.1.4.1.9328.50.4.0355\n",
      "1.3.6.1.4.1.9328.50.4.0455\n",
      "1.3.6.1.4.1.9328.50.4.0455\n",
      "1.3.6.1.4.1.9328.50.4.0455\n",
      "1.3.6.1.4.1.9328.50.4.0490\n",
      "1.3.6.1.4.1.9328.50.4.0490\n",
      "1.3.6.1.4.1.9328.50.4.0495\n",
      "1.3.6.1.4.1.9328.50.4.0296\n",
      "1.3.6.1.4.1.9328.50.4.0310\n",
      "1.3.6.1.4.1.9328.50.4.0334\n",
      "1.3.6.1.4.1.9328.50.4.0275\n",
      "sem prone 01-01-2000-1-SCREENING CT COLONOGRA-06128\\6-Recon 2 ABD PEL WITHOUT - PRON-06649\n",
      "1.3.6.1.4.1.9328.50.4.0485\n",
      "sem prone 01-01-2000-1-Abdomen3COLONOGRAPHY-46375\\8-AXIAL 3D-46895\n",
      "1.3.6.1.4.1.9328.50.4.0375\n",
      "sem prone 01-01-2000-1-Abdomen3COLONOGRAPHY-18934\\6-AXIAL 3D-18935\n",
      "1.3.6.1.4.1.9328.50.4.0434\n",
      "1.3.6.1.4.1.9328.50.4.0516\n",
      "1.3.6.1.4.1.9328.50.4.0518\n",
      "1.3.6.1.4.1.9328.50.4.0518\n",
      "1.3.6.1.4.1.9328.50.4.0639\n",
      "1.3.6.1.4.1.9328.50.4.0660\n"
     ]
    },
    {
     "ename": "FileNotFoundError",
     "evalue": "[WinError 2] O sistema não pode encontrar o arquivo especificado: 'C:\\\\Users\\\\mariliasi\\\\Documents\\\\CT COLONOGRAPHY\\\\1.3.6.1.4.1.9328.50.4.0660\\\\'",
     "output_type": "error",
     "traceback": [
      "\u001b[1;31m---------------------------------------------------------------------------\u001b[0m",
      "\u001b[1;31mFileNotFoundError\u001b[0m                         Traceback (most recent call last)",
      "\u001b[1;32m<ipython-input-3-a2edc3cf223c>\u001b[0m in \u001b[0;36m<module>\u001b[1;34m()\u001b[0m\n\u001b[0;32m     11\u001b[0m \u001b[1;32mfor\u001b[0m \u001b[0mtciaNumber\u001b[0m \u001b[1;32min\u001b[0m \u001b[0msheetX\u001b[0m\u001b[1;33m[\u001b[0m\u001b[1;34m'TCIA Number com polipo'\u001b[0m\u001b[1;33m]\u001b[0m\u001b[1;33m:\u001b[0m\u001b[1;33m\u001b[0m\u001b[0m\n\u001b[0;32m     12\u001b[0m     \u001b[0mprint\u001b[0m\u001b[1;33m(\u001b[0m\u001b[0mtciaNumber\u001b[0m\u001b[1;33m)\u001b[0m\u001b[1;33m\u001b[0m\u001b[0m\n\u001b[1;32m---> 13\u001b[1;33m     \u001b[0mos\u001b[0m\u001b[1;33m.\u001b[0m\u001b[0mchdir\u001b[0m\u001b[1;33m(\u001b[0m\u001b[1;34m\"C:\\\\Users\\\\mariliasi\\\\Documents\\\\CT COLONOGRAPHY\\\\\"\u001b[0m\u001b[1;33m+\u001b[0m\u001b[0mstr\u001b[0m\u001b[1;33m(\u001b[0m\u001b[0mtciaNumber\u001b[0m\u001b[1;33m)\u001b[0m\u001b[1;33m+\u001b[0m\u001b[1;34m\"\\\\\"\u001b[0m\u001b[1;33m)\u001b[0m\u001b[1;33m\u001b[0m\u001b[0m\n\u001b[0m\u001b[0;32m     14\u001b[0m     \u001b[1;32mfor\u001b[0m \u001b[0mfile\u001b[0m \u001b[1;32min\u001b[0m \u001b[0mglob\u001b[0m\u001b[1;33m.\u001b[0m\u001b[0mglob\u001b[0m\u001b[1;33m(\u001b[0m\u001b[1;34m\"**/*\"\u001b[0m\u001b[1;33m)\u001b[0m\u001b[1;33m:\u001b[0m\u001b[1;33m\u001b[0m\u001b[0m\n\u001b[0;32m     15\u001b[0m         \u001b[1;32mif\u001b[0m \u001b[1;34m\"prone\"\u001b[0m \u001b[1;32min\u001b[0m \u001b[0mfile\u001b[0m\u001b[1;33m.\u001b[0m\u001b[0mlower\u001b[0m\u001b[1;33m(\u001b[0m\u001b[1;33m)\u001b[0m\u001b[1;33m:\u001b[0m\u001b[1;33m\u001b[0m\u001b[0m\n",
      "\u001b[1;31mFileNotFoundError\u001b[0m: [WinError 2] O sistema não pode encontrar o arquivo especificado: 'C:\\\\Users\\\\mariliasi\\\\Documents\\\\CT COLONOGRAPHY\\\\1.3.6.1.4.1.9328.50.4.0660\\\\'"
     ]
    }
   ],
   "source": [
    "os.chdir(\"C:/Users/mariliasi/Documents/\")\n",
    "xls = pd.ExcelFile(\"imagens selecionadas.xlsx\")\n",
    "\n",
    "sheetX = xls.parse(0) #2 is the sheet number\n",
    "\n",
    "cont=0\n",
    "\n",
    "notprone=0\n",
    "arrayManualCom = []\n",
    "##codigo para extrair os arquivos das imagens sem polipos do dataset original conforme tabela para uma nova pasta\n",
    "for tciaNumber in sheetX['TCIA Number com polipo']:\n",
    "    print(tciaNumber)\n",
    "    os.chdir(\"C:\\\\Users\\\\mariliasi\\\\Documents\\\\CT COLONOGRAPHY\\\\\"+str(tciaNumber)+\"\\\\\")\n",
    "    for file in glob.glob(\"**/*\"):\n",
    "        if \"prone\" in file.lower():\n",
    "            for imagem in  glob.glob(file+\"/000\"+str(int(sheetX['imagem prone c1'][cont]))+\".dcm\"):\n",
    "                shutil.copy2(imagem, \"../../classe_com_polipo/\"+tciaNumber+\"_\"+str(sheetX['imagem prone c1'][cont])+\".dcm\")\n",
    "            for imagem in  glob.glob(file+\"/000\"+str(int(sheetX['imagem prone c1'][cont]))+\".dcm\"):\n",
    "                shutil.copy2(imagem, \"../../classe_com_polipo/\"+tciaNumber+\"_\"+str(sheetX['imagem prone c2'][cont])+\".dcm\")\n",
    "            notprone=1\n",
    "    if notprone==0:\n",
    "        print(\"sem prone \" + file)\n",
    "        arrayManualCom.append(tciaNumber)\n",
    "    cont=cont+1\n",
    "    notprone=0\n"
   ]
  },
  {
   "cell_type": "code",
   "execution_count": 5,
   "metadata": {},
   "outputs": [
    {
     "name": "stdout",
     "output_type": "stream",
     "text": [
      "['1.3.6.1.4.1.9328.50.4.0375', '1.3.6.1.4.1.9328.50.4.0216', '1.3.6.1.4.1.9328.50.4.0104', '1.3.6.1.4.1.9328.50.4.0275', '1.3.6.1.4.1.9328.50.4.0485']\n",
      "['1.3.6.1.4.1.9328.50.4.0026', '1.3.6.1.4.1.9328.50.4.0126', '1.3.6.1.4.1.9328.50.4.0128', '1.3.6.1.4.1.9328.50.4.0090', '1.3.6.1.4.1.9328.50.4.0088', '1.3.6.1.4.1.9328.50.4.0020', '1.3.6.1.4.1.9328.50.4.0099', '1.3.6.1.4.1.9328.50.4.0025', '1.3.6.1.4.1.9328.50.4.0087', '1.3.6.1.4.1.9328.50.4.0133', '1.3.6.1.4.1.9328.50.4.0024', '1.3.6.1.4.1.9328.50.4.0101', '1.3.6.1.4.1.9328.50.4.0023', '1.3.6.1.4.1.9328.50.4.0045', '1.3.6.1.4.1.9328.50.4.0091', '1.3.6.1.4.1.9328.50.4.0021']\n"
     ]
    }
   ],
   "source": [
    "listaCom = list(set(arrayManualCom))\n",
    "print(listaCom)\n",
    "\n",
    "arrayManualSem\n",
    "listaSem = list(set(arrayManualSem))\n",
    "print(listaSem\n",
    "\n",
    "#esses são os pacientes que precisam ser analisados manualmente pois nao apresentam \"prone\" nos nomes de suas pastas \n"
   ]
  },
  {
   "cell_type": "code",
   "execution_count": 3,
   "metadata": {},
   "outputs": [
    {
     "data": {
      "text/plain": [
       "'C:\\\\Users\\\\mariliasi\\\\Documents\\\\CT COLONOGRAPHY\\\\1.3.6.1.4.1.9328.50.4.0077\\\\'"
      ]
     },
     "execution_count": 3,
     "metadata": {},
     "output_type": "execute_result"
    }
   ],
   "source": [
    "os.chdir(\"C:/Users/mariliasi/Documents/\")\n",
    "xls = pd.ExcelFile(\"imagens selecionadas.xlsx\")\n",
    "\n",
    "sheetX = xls.parse(0) #2 is the sheet number\n",
    "cont=0\n",
    "##codigo para extrair os arquivos das imagens sem polipos do dataset original conforme tabela para uma nova pasta\n",
    "for tciaNumber in sheetX['TCIA Number sem polipo']:\n",
    "    os.chdir(\"C:\\\\Users\\\\mariliasi\\\\Documents\\\\CT COLONOGRAPHY\\\\\"+str(tciaNumber)+\"\\\\\")\n",
    "    for file in glob.glob(\"**/*\"):\n",
    "        for imagem in  glob.glob(file+\"/000\"+str(sheetX['imagem prone s1'][cont])+\".dcm\"):\n",
    "            shutil.copy2(imagem, \"../../classe_sem_polipo/\"+tciaNumber+\"_\"+str(sheetX['imagem prone s1'][cont])+\".dcm\")\n",
    "        for imagem in  glob.glob(file+\"/000\"+str(sheetX['imagem prone s2'][cont])+\".dcm\"):\n",
    "            shutil.copy2(imagem, \"../../classe_sem_polipo/\"+tciaNumber+\"_\"+str(sheetX['imagem prone s2'][cont])+\".dcm\")\n",
    "    cont=cont+1\n",
    "   "
   ]
  },
  {
   "cell_type": "code",
   "execution_count": 8,
   "metadata": {},
   "outputs": [
    {
     "ename": "FileNotFoundError",
     "evalue": "[WinError 2] O sistema não pode encontrar o arquivo especificado: 'C:\\\\Users\\\\mariliasi\\\\Documents\\\\CT COLONOGRAPHY\\\\1.3.6.1.4.1.9328.50.4.0660\\\\'",
     "output_type": "error",
     "traceback": [
      "\u001b[1;31m---------------------------------------------------------------------------\u001b[0m",
      "\u001b[1;31mFileNotFoundError\u001b[0m                         Traceback (most recent call last)",
      "\u001b[1;32m<ipython-input-8-487dc5193bb0>\u001b[0m in \u001b[0;36m<module>\u001b[1;34m()\u001b[0m\n\u001b[0;32m      5\u001b[0m \u001b[0mcont\u001b[0m\u001b[1;33m=\u001b[0m\u001b[1;36m0\u001b[0m\u001b[1;33m\u001b[0m\u001b[0m\n\u001b[0;32m      6\u001b[0m \u001b[1;32mfor\u001b[0m \u001b[0mtciaNumber\u001b[0m \u001b[1;32min\u001b[0m \u001b[0msheetX\u001b[0m\u001b[1;33m[\u001b[0m\u001b[1;34m'TCIA Number com polipo'\u001b[0m\u001b[1;33m]\u001b[0m\u001b[1;33m:\u001b[0m\u001b[1;33m\u001b[0m\u001b[0m\n\u001b[1;32m----> 7\u001b[1;33m     \u001b[0mos\u001b[0m\u001b[1;33m.\u001b[0m\u001b[0mchdir\u001b[0m\u001b[1;33m(\u001b[0m\u001b[1;34m\"C:\\\\Users\\\\mariliasi\\\\Documents\\\\CT COLONOGRAPHY\\\\\"\u001b[0m\u001b[1;33m+\u001b[0m\u001b[0mstr\u001b[0m\u001b[1;33m(\u001b[0m\u001b[0mtciaNumber\u001b[0m\u001b[1;33m)\u001b[0m\u001b[1;33m+\u001b[0m\u001b[1;34m\"\\\\\"\u001b[0m\u001b[1;33m)\u001b[0m\u001b[1;33m\u001b[0m\u001b[0m\n\u001b[0m\u001b[0;32m      8\u001b[0m     \u001b[1;32mfor\u001b[0m \u001b[0mfile\u001b[0m \u001b[1;32min\u001b[0m \u001b[0mglob\u001b[0m\u001b[1;33m.\u001b[0m\u001b[0mglob\u001b[0m\u001b[1;33m(\u001b[0m\u001b[1;34m\"**/*\"\u001b[0m\u001b[1;33m)\u001b[0m\u001b[1;33m:\u001b[0m\u001b[1;33m\u001b[0m\u001b[0m\n\u001b[0;32m      9\u001b[0m         \u001b[1;32mfor\u001b[0m \u001b[0mimagem\u001b[0m \u001b[1;32min\u001b[0m  \u001b[0mglob\u001b[0m\u001b[1;33m.\u001b[0m\u001b[0mglob\u001b[0m\u001b[1;33m(\u001b[0m\u001b[0mfile\u001b[0m\u001b[1;33m+\u001b[0m\u001b[1;34m\"/000\"\u001b[0m\u001b[1;33m+\u001b[0m\u001b[0mstr\u001b[0m\u001b[1;33m(\u001b[0m\u001b[0mint\u001b[0m\u001b[1;33m(\u001b[0m\u001b[0msheetX\u001b[0m\u001b[1;33m[\u001b[0m\u001b[1;34m'imagem prone c1'\u001b[0m\u001b[1;33m]\u001b[0m\u001b[1;33m[\u001b[0m\u001b[0mcont\u001b[0m\u001b[1;33m]\u001b[0m\u001b[1;33m)\u001b[0m\u001b[1;33m)\u001b[0m\u001b[1;33m+\u001b[0m\u001b[1;34m\".dcm\"\u001b[0m\u001b[1;33m)\u001b[0m\u001b[1;33m:\u001b[0m\u001b[1;33m\u001b[0m\u001b[0m\n",
      "\u001b[1;31mFileNotFoundError\u001b[0m: [WinError 2] O sistema não pode encontrar o arquivo especificado: 'C:\\\\Users\\\\mariliasi\\\\Documents\\\\CT COLONOGRAPHY\\\\1.3.6.1.4.1.9328.50.4.0660\\\\'"
     ]
    }
   ],
   "source": [
    "os.chdir(\"C:/Users/mariliasi/Documents/\")\n",
    "xls = pd.ExcelFile(\"imagens selecionadas.xlsx\")\n",
    "\n",
    "sheetX = xls.parse(0) #2 is the sheet number\n",
    "cont=0\n",
    "for tciaNumber in sheetX['TCIA Number com polipo']:\n",
    "    os.chdir(\"C:\\\\Users\\\\mariliasi\\\\Documents\\\\CT COLONOGRAPHY\\\\\"+str(tciaNumber)+\"\\\\\")\n",
    "    for file in glob.glob(\"**/*\"):\n",
    "        for imagem in  glob.glob(file+\"/000\"+str(int(sheetX['imagem prone c1'][cont]))+\".dcm\"):\n",
    "            shutil.copy2(imagem, \"../../classe_com_polipo/\"+tciaNumber+\"_\"+str(int(sheetX['imagem prone c1'][cont]))+\".dcm\")\n",
    "        for imagem in  glob.glob(file+\"/000\"+str(int(sheetX['imagem prone c1'][cont]))+\".dcm\"):\n",
    "            shutil.copy2(imagem, \"../../classe_com_polipo/\"+tciaNumber+\"_\"+str(int(sheetX['imagem prone c2'][cont]))+\".dcm\")\n",
    "        notprone=1\n",
    "    cont=cont+1"
   ]
  },
  {
   "cell_type": "code",
   "execution_count": null,
   "metadata": {},
   "outputs": [],
   "source": []
  }
 ],
 "metadata": {
  "kernelspec": {
   "display_name": "Python 3",
   "language": "python",
   "name": "python3"
  },
  "language_info": {
   "codemirror_mode": {
    "name": "ipython",
    "version": 3
   },
   "file_extension": ".py",
   "mimetype": "text/x-python",
   "name": "python",
   "nbconvert_exporter": "python",
   "pygments_lexer": "ipython3",
   "version": "3.6.4"
  }
 },
 "nbformat": 4,
 "nbformat_minor": 2
}
