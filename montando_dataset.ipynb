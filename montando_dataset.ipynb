{
 "cells": [
  {
   "cell_type": "code",
   "execution_count": 29,
   "metadata": {},
   "outputs": [
    {
     "name": "stdout",
     "output_type": "stream",
     "text": [
      "01-01-2000-1-Abdomen24ACRINColoIRB2415-04 Adult-0.4.1\\4-Coloprone  1.0  B30f-0.4.2\\000148.dcm\n",
      "01-01-2000-1-Abdomen24ACRINColoIRB2415-04 Adult-0.4.1\\4-Coloprone  1.0  B30f-0.4.2\\000149.dcm\n",
      "01-01-2000-1-Abdomen24ACRINColoIRB2415-04 Adult-0.4.1\\4-Coloprone  1.0  B30f-0.4.2\\000149.dcm\n",
      "01-01-2000-1-Abdomen24ACRINColoIRB2415-04 Adult-0.4.1\\4-Coloprone  1.0  B30f-0.4.2\\000149.dcm\n",
      "01-01-2000-1-Abdomen24ACRINColoIRB2415-04 Adult-.2319\\4-Coloprone  1.0  B30f-.2320\\000311.dcm\n",
      "01-01-2000-1-Abdomen24ACRINColoIRB2415-04 Adult-.2319\\4-Coloprone  1.0  B30f-.2320\\000312.dcm\n",
      "01-01-2000-1-Abdomen24ACRINColoIRB2415-04 Adult-.2319\\4-Coloprone  1.0  B30f-.2320\\000312.dcm\n",
      "01-01-2000-1-Abdomen24ACRINColoIRB2415-04 Adult-.2319\\4-Coloprone  1.0  B30f-.2320\\000312.dcm\n",
      "01-01-2000-1-Abdomen01ACRINColonographySupine-42393\\5-Prone Colo   1.0  B30f-42920\\000148.dcm\n",
      "01-01-2000-1-Abdomen01ACRINColonographySupine-42393\\5-Prone Colo   1.0  B30f-42920\\000148.dcm\n",
      "01-01-2000-1-Abdomen01ACRINColonographySupine-42393\\5-Prone Colo   1.0  B30f-42920\\000148.dcm\n",
      "01-01-2000-1-Abdomen01ACRINColonographySupine-42393\\5-Prone Colo   1.0  B30f-42920\\000149.dcm\n",
      "01-01-2000-1-Abdomen01ACRINColonographySupine-42393\\5-Prone Colo   1.0  B30f-42920\\000149.dcm\n",
      "01-01-2000-1-Abdomen01ACRINColonographySupine-42393\\5-Prone Colo   1.0  B30f-42920\\000149.dcm\n",
      "01-01-2000-1-Abdomen01ACRINColonographySupine-42393\\5-Prone Colo   1.0  B30f-42920\\000311.dcm\n",
      "01-01-2000-1-Abdomen01ACRINColonographySupine-42393\\5-Prone Colo   1.0  B30f-42920\\000311.dcm\n",
      "01-01-2000-1-Abdomen01ACRINColonographySupine-42393\\5-Prone Colo   1.0  B30f-42920\\000311.dcm\n",
      "01-01-2000-1-Abdomen01ACRINColonographySupine-42393\\5-Prone Colo   1.0  B30f-42920\\000312.dcm\n",
      "01-01-2000-1-Abdomen01ACRINColonographySupine-42393\\5-Prone Colo   1.0  B30f-42920\\000312.dcm\n",
      "01-01-2000-1-Abdomen01ACRINColonographySupine-42393\\5-Prone Colo   1.0  B30f-42920\\000312.dcm\n"
     ]
    }
   ],
   "source": [
    "import pandas as pd\n",
    "import glob, os\n",
    "import shutil \n",
    "\n",
    "os.chdir(\"C:\\\\Users\\\\maril\\\\Documents\\\\\")\n",
    "xls = pd.ExcelFile(\"imagens selecionadas.xlsx\")\n",
    "\n",
    "sheetX = xls.parse(0) #2 is the sheet number\n",
    "\n",
    "cont=0\n",
    "#print(sheetX)\n",
    "\n",
    "##codigo para extrair os arquivos das imagens sem polipos do dataset original conforme tabela para uma nova pasta\n",
    "for teste in sheetX['TCIA Number sem polipo']:\n",
    "    os.chdir(\"C:/Users/maril/Documents/CT COLONOGRAPHY/\"+teste+\"/\")\n",
    "    for file in glob.glob(\"**/**/000\"+str(sheetX['imagem prone s1'][cont])+\".dcm\"):\n",
    "        print(file)\n",
    "        shutil.copy2(file, \"../../classe_sem_polipo/\"+teste+\"_\"+str(sheetX['imagem prone s1'][cont])+\".dcm\")\n",
    "        \n",
    "    for file in glob.glob(\"**/**/000\"+str(sheetX['imagem prone s2'][cont])+\".dcm\"):\n",
    "        print(file)\n",
    "        shutil.copy2(file, \"../../classe_sem_polipo/\"+teste+\"_\"+str(sheetX['imagem prone s2'][cont])+\".dcm\")\n",
    "    \n",
    "    cont=cont+1\n",
    "\n",
    "cont=0\n",
    "##codigo para extrair os arquivos das imagens sem polipos do dataset original conforme tabela para uma nova pasta\n",
    "\n",
    "for teste in sheetX['TCIA Number com polipo']:\n",
    "    os.chdir(\"C:/Users/maril/Documents/CT COLONOGRAPHY/\"+teste+\"/\")\n",
    "    for file in glob.glob(\"**/**/000\"+str(sheetX['imagem prone c1'][cont])+\".dcm\"):\n",
    "        print(file)\n",
    "        shutil.copy2(file, \"../../classe_com_polipo/\"+teste+\"_\"+str(sheetX['imagem prone c1'][cont])+\".dcm\")\n",
    "        \n",
    "    for file in glob.glob(\"**/**/000\"+str(sheetX['imagem prone c2'][cont])+\".dcm\"):\n",
    "        print(file)\n",
    "        shutil.copy2(file, \"../../classe_com_polipo/\"+teste+\"_\"+str(sheetX['imagem prone c2'][cont])+\".dcm\")\n",
    "    \n",
    "    cont=cont+1"
   ]
  },
  {
   "cell_type": "code",
   "execution_count": null,
   "metadata": {},
   "outputs": [],
   "source": []
  },
  {
   "cell_type": "code",
   "execution_count": null,
   "metadata": {},
   "outputs": [],
   "source": []
  },
  {
   "cell_type": "code",
   "execution_count": null,
   "metadata": {},
   "outputs": [],
   "source": []
  }
 ],
 "metadata": {
  "kernelspec": {
   "display_name": "Python 3",
   "language": "python",
   "name": "python3"
  },
  "language_info": {
   "codemirror_mode": {
    "name": "ipython",
    "version": 3
   },
   "file_extension": ".py",
   "mimetype": "text/x-python",
   "name": "python",
   "nbconvert_exporter": "python",
   "pygments_lexer": "ipython3",
   "version": "3.6.5"
  }
 },
 "nbformat": 4,
 "nbformat_minor": 2
}
