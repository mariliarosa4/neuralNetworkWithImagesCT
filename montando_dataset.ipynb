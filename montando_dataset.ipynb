{
 "cells": [
  {
   "cell_type": "code",
   "execution_count": null,
   "metadata": {},
   "outputs": [],
   "source": [
    "import pandas as pd\n",
    "import glob, os\n",
    "import shutil \n",
    "\n",
    "os.chdir(\"C:\\\\Users\\\\maril\\\\Documents\\\\\")\n",
    "xls = pd.ExcelFile(\"imagens selecionadas.xlsx\")\n",
    "\n",
    "sheetX = xls.parse(0) #2 is the sheet number\n",
    "\n",
    "cont=0\n",
    "#print(sheetX)\n",
    "\n",
    "arrayManual = []\n",
    "##codigo para extrair os arquivos das imagens sem polipos do dataset original conforme tabela para uma nova pasta\n",
    "for tciaNumber in sheetX['TCIA Number sem polipo']:\n",
    "    os.chdir(\"C:/Users/maril/Documents/CT COLONOGRAPHY/\"+tciaNumber+\"/\")\n",
    "    for file in glob.glob(\"**/*\"):\n",
    "        if \"prone\" in file.lower():\n",
    "            for imagem in  glob.glob(file+\"/000\"+str(sheetX['imagem prone s1'][cont])+\".dcm\"):\n",
    "                shutil.copy2(imagem, \"../../classe_sem_polipo/\"+tciaNumber+\"_\"+str(sheetX['imagem prone s1'][cont])+\".dcm\")\n",
    "            for imagem in  glob.glob(file+\"/000\"+str(sheetX['imagem prone s2'][cont])+\".dcm\"):\n",
    "                shutil.copy2(imagem, \"../../classe_sem_polipo/\"+tciaNumber+\"_\"+str(sheetX['imagem prone s2'][cont])+\".dcm\")\n",
    "        else:\n",
    "            print(\"sem prone \" + file)\n",
    "            arrayManual.append(tciaNumber)\n",
    "    cont=cont+1 \n"
   ]
  },
  {
   "cell_type": "code",
   "execution_count": null,
   "metadata": {},
   "outputs": [],
   "source": [
    "os.chdir(\"C:\\\\Users\\\\maril\\\\Documents\\\\\")\n",
    "xls = pd.ExcelFile(\"imagens selecionadas.xlsx\")\n",
    "\n",
    "sheetX = xls.parse(0) #2 is the sheet number\n",
    "cont=0\n",
    "##codigo para extrair os arquivos das imagens sem polipos do dataset original conforme tabela para uma nova pasta\n",
    "for tciaNumber2 in sheetX['TCIA Number com polipo']:\n",
    "    os.chdir(\"C:/Users/maril/Documents/CT COLONOGRAPHY/\"+tciaNumber2+\"/\")\n",
    "    for file in glob.glob(\"**/*\"):\n",
    "        if \"prone\" in file.lower():\n",
    "            for imagem in  glob.glob(file+\"/000\"+str(sheetX['imagem prone c1'][cont])+\".dcm\"):\n",
    "                shutil.copy2(imagem, \"../../classe_com_polipo/\"+tciaNumber2+\"_\"+str(sheetX['imagem prone c1'][cont])+\".dcm\")\n",
    "            for imagem in  glob.glob(file+\"/000\"+str(sheetX['imagem prone c2'][cont])+\".dcm\"):\n",
    "                shutil.copy2(imagem, \"../../classe_com_polipo/\"+tciaNumber2+\"_\"+str(sheetX['imagem prone c2'][cont])+\".dcm\")\n",
    "        else:\n",
    "            print(\"sem prone \" + file)\n",
    "            arrayManual.append(tciaNumber2)\n",
    "    cont=cont+1 \n"
   ]
  },
  {
   "cell_type": "code",
   "execution_count": null,
   "metadata": {},
   "outputs": [],
   "source": [
    "arrayManual\n",
    "#esses são os pacientes que precisam ser analisados manualmente pois nao apresentam \"prone\" nos nomes de suas pastas \n",
    "#renomeie a pasta com um nome contendo a string prone e repita os códigos anteriores"
   ]
  },
  {
   "cell_type": "code",
   "execution_count": null,
   "metadata": {},
   "outputs": [],
   "source": []
  }
 ],
 "metadata": {
  "kernelspec": {
   "display_name": "Python 3",
   "language": "python",
   "name": "python3"
  },
  "language_info": {
   "codemirror_mode": {
    "name": "ipython",
    "version": 3
   },
   "file_extension": ".py",
   "mimetype": "text/x-python",
   "name": "python",
   "nbconvert_exporter": "python",
   "pygments_lexer": "ipython3",
   "version": "3.6.5"
  }
 },
 "nbformat": 4,
 "nbformat_minor": 2
}
